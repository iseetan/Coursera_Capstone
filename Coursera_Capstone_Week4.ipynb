{
 "cells": [
  {
   "cell_type": "markdown",
   "metadata": {},
   "source": [
    "# Capstone Project - The Battle of Neighborhoods ##\n",
    "\n",
    "## Week 4 - Opening a new Chinese restaurant in Toronto##\n",
    "\n",
    "## 1.0 Introduction / Business Problem ##\n",
    "\n",
    "### 1.1 Background: ###\n",
    "Toronto is Canada's largest city by population (4th largest city by population in North America), with a population of 2.7 million in 2016. Toronto is an international centre of business, finance, arts, and culture, and is recognized as one of the most multicultural and cosmopolitan cities in the world. The diverse population of Toronto reflects its current and historical role as an important destination for immigrants to Canada. 50%+ of residents belong to a visible minority population group, and 200+ distinct ethnic origins are represented among its inhabitants.\n",
    "\n",
    "The diversity of the cuisine available is reflective of Toronto's multiculturalism and is key to maintaining Toronto's reputation as one of the most immigrration friendly and ethnically diverse cities in Canada, noting Toronto is often voted as one of the best cities to settle as a new immigrant in all of North America. Toronto can be divided into many ethnic neighborhoods mainly serving different kinds of ethnic foods including Chinatown, Greektown, Little Italy, Koreatown, Portugal Village, Little India just to name a few where residents and tourists alike know where to get the best selection of ethnic foods to satisfy all of their food cravings. __Opening a new restaurant (i.e, Chinese restaurant) is often an immmigrant/resident's dream and could become their main/only source of income. As with any business decision, opening a new restaurant requires serious consideration of many complex factors. Specifically, it is critical for the owner to accurately predict the best location to establish the restaurant that has the best reach to its target audience, which will be vital in ensuring the long-term success of the business.__\n",
    "\n",
    "### 1.2 Problem: ###\n",
    "\n",
    "The objective of this project is to analyze and pick the best locations to open a new Chinese restaurant in Toronto. Factors critical in determining the best location to open a Chinese restaurant could include:\n",
    "\n",
    "- Neighbourhoods with the highest/lowest density of similar restaurants serving similar dishes\n",
    "- Neighbourhoods with the highest rated and lowest rated Chinese retaurants\n",
    "- Average cost of chinese dishes by neighbourhood\n",
    "\n",
    "Applying data science methodologies and machine learning techniques like clustering on Foursquare location data, the project aims to provide solutions to the following question: __Where should a new business owner look to open a Chinese restaurant in the city of Toronto?__\n",
    "\n",
    "### 1.3 Target Audience / Interested Parties: ###\n",
    "\n",
    "The main stakeholder/target audience would be the business owner who is looking to make his/her main/only source of income by establishing a new Chinese restaurant at an optimal location. Other interested parties include residents and new immigrants who want to try out a new Chinese restaurant/make this their regular dining out spot, tourists who come from all over the world to dine at the best Toronto restaurants, essentially everyone who likes Chinese food/is interested in trying out Chinese food.\n",
    "\n",
    "## 2.0 Data ##\n",
    "\n",
    "### 2.1 Data Sources: ###\n",
    "\n",
    "Data required for this project includes:\n",
    "\n",
    "- List of neighbourhoods in Toronto, as the location of the project is confined to the city of Toronto in the country of Canada (Wikipedia)\n",
    "- Latitude and longtitude coordinates of these neighbourhoods. This is required to plot the map as well as retrive the venue data (Geocoder package on Python)\n",
    "- Venue data, specifically data related to Chinese restaurants. This data will be used to cluster the neighbourhoods (Foursquare)\n",
    "\n",
    "Sources of data and methods for extraction: \n",
    "\n",
    "- A list of neighbourhoods in Toronto can be found on Wikipedia (https://en.wikipedia.org/wiki/List_of_neighbourhoods_in_Toronto), with a total of 140 officially recognized neihbourhoods. To extract the data, Python has built-in functions to turn the data into table form. \n",
    "- Then the Python Geocoder package will be used to get the geographical coordinates (latitude and longtitude coordinates) of the neighbourhoods.\n",
    "- The Foursquare API will then be used to get the venue data for the neighbourhoods. The Foursquare API can provide many categories of venue data but my area of interest is in the Chinese restaurants subcategory of the restaurants category.\n",
    "\n",
    "This project will make use of many data science skills including web scraping Wikipedia, working with the Foursquare API, data cleaning, data wrangling, machine learning via clustering and map visualization via Folium. The methodology section will detail steps taken in this project, the data analysis conducted and machine learning technique used.\n",
    "\n",
    "\n",
    "\n"
   ]
  },
  {
   "cell_type": "code",
   "execution_count": null,
   "metadata": {},
   "outputs": [],
   "source": []
  }
 ],
 "metadata": {
  "kernelspec": {
   "display_name": "Python 3",
   "language": "python",
   "name": "python3"
  },
  "language_info": {
   "codemirror_mode": {
    "name": "ipython",
    "version": 3
   },
   "file_extension": ".py",
   "mimetype": "text/x-python",
   "name": "python",
   "nbconvert_exporter": "python",
   "pygments_lexer": "ipython3",
   "version": "3.7.4"
  }
 },
 "nbformat": 4,
 "nbformat_minor": 4
}
