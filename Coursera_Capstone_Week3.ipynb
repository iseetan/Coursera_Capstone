{
 "cells": [
  {
   "cell_type": "markdown",
   "metadata": {},
   "source": [
    "__Section 1: Scraping the data and transforming it into a pandas dataframe__"
   ]
  },
  {
   "cell_type": "code",
   "execution_count": 79,
   "metadata": {},
   "outputs": [],
   "source": [
    "import pandas as pd\n",
    "from bs4 import BeautifulSoup\n",
    "import requests"
   ]
  },
  {
   "cell_type": "markdown",
   "metadata": {},
   "source": [
    "Parsing data"
   ]
  },
  {
   "cell_type": "code",
   "execution_count": 81,
   "metadata": {},
   "outputs": [],
   "source": [
    "source = requests.get('https://en.wikipedia.org/wiki/List_of_postal_codes_of_Canada:_M').text\n",
    "soup = BeautifulSoup(source,'lxml')"
   ]
  },
  {
   "cell_type": "markdown",
   "metadata": {},
   "source": [
    "Find the table and iterate through the cell values"
   ]
  },
  {
   "cell_type": "code",
   "execution_count": 103,
   "metadata": {},
   "outputs": [],
   "source": [
    "table = soup.find('table')\n",
    "tablevalues = table.find_all('td') #finds all the cells in table and creates a list\n",
    "\n",
    "elementcount = len(tablevalues) #total number of cells\n",
    "\n",
    "postcode,brough,neighborhood = [],[],[] #sets columns to 3 empty lists\n",
    "\n",
    "for i in range(0, elementcount, 3): #start at cell 0, iterate through cells in increments of 3\n",
    "    postcode.append(tablevalues[i].text.strip()) #removes white space of text\n",
    "    borough.append(tablevalues[i+1].text.strip())\n",
    "    neighborhood.append(tablevalues[i+2].text.strip())"
   ]
  },
  {
   "cell_type": "markdown",
   "metadata": {},
   "source": [
    "Build dataframe"
   ]
  },
  {
   "cell_type": "code",
   "execution_count": 117,
   "metadata": {},
   "outputs": [
    {
     "data": {
      "text/html": [
       "<div>\n",
       "<style scoped>\n",
       "    .dataframe tbody tr th:only-of-type {\n",
       "        vertical-align: middle;\n",
       "    }\n",
       "\n",
       "    .dataframe tbody tr th {\n",
       "        vertical-align: top;\n",
       "    }\n",
       "\n",
       "    .dataframe thead th {\n",
       "        text-align: right;\n",
       "    }\n",
       "</style>\n",
       "<table border=\"1\" class=\"dataframe\">\n",
       "  <thead>\n",
       "    <tr style=\"text-align: right;\">\n",
       "      <th></th>\n",
       "      <th>Postcode</th>\n",
       "      <th>Borough</th>\n",
       "      <th>Neighborhood</th>\n",
       "    </tr>\n",
       "  </thead>\n",
       "  <tbody>\n",
       "    <tr>\n",
       "      <td>0</td>\n",
       "      <td>M1A</td>\n",
       "      <td>Not assigned</td>\n",
       "      <td>Not assigned</td>\n",
       "    </tr>\n",
       "    <tr>\n",
       "      <td>1</td>\n",
       "      <td>M2A</td>\n",
       "      <td>Not assigned</td>\n",
       "      <td>Not assigned</td>\n",
       "    </tr>\n",
       "    <tr>\n",
       "      <td>2</td>\n",
       "      <td>M3A</td>\n",
       "      <td>North York</td>\n",
       "      <td>Parkwoods</td>\n",
       "    </tr>\n",
       "    <tr>\n",
       "      <td>3</td>\n",
       "      <td>M4A</td>\n",
       "      <td>North York</td>\n",
       "      <td>Victoria Village</td>\n",
       "    </tr>\n",
       "    <tr>\n",
       "      <td>4</td>\n",
       "      <td>M5A</td>\n",
       "      <td>Downtown Toronto</td>\n",
       "      <td>Harbourfront</td>\n",
       "    </tr>\n",
       "    <tr>\n",
       "      <td>...</td>\n",
       "      <td>...</td>\n",
       "      <td>...</td>\n",
       "      <td>...</td>\n",
       "    </tr>\n",
       "    <tr>\n",
       "      <td>569</td>\n",
       "      <td>None</td>\n",
       "      <td>Etobicoke</td>\n",
       "      <td>None</td>\n",
       "    </tr>\n",
       "    <tr>\n",
       "      <td>570</td>\n",
       "      <td>None</td>\n",
       "      <td>Etobicoke</td>\n",
       "      <td>None</td>\n",
       "    </tr>\n",
       "    <tr>\n",
       "      <td>571</td>\n",
       "      <td>None</td>\n",
       "      <td>Etobicoke</td>\n",
       "      <td>None</td>\n",
       "    </tr>\n",
       "    <tr>\n",
       "      <td>572</td>\n",
       "      <td>None</td>\n",
       "      <td>Etobicoke</td>\n",
       "      <td>None</td>\n",
       "    </tr>\n",
       "    <tr>\n",
       "      <td>573</td>\n",
       "      <td>None</td>\n",
       "      <td>Not assigned</td>\n",
       "      <td>None</td>\n",
       "    </tr>\n",
       "  </tbody>\n",
       "</table>\n",
       "<p>574 rows × 3 columns</p>\n",
       "</div>"
      ],
      "text/plain": [
       "    Postcode           Borough      Neighborhood\n",
       "0        M1A      Not assigned      Not assigned\n",
       "1        M2A      Not assigned      Not assigned\n",
       "2        M3A        North York         Parkwoods\n",
       "3        M4A        North York  Victoria Village\n",
       "4        M5A  Downtown Toronto      Harbourfront\n",
       "..       ...               ...               ...\n",
       "569     None         Etobicoke              None\n",
       "570     None         Etobicoke              None\n",
       "571     None         Etobicoke              None\n",
       "572     None         Etobicoke              None\n",
       "573     None      Not assigned              None\n",
       "\n",
       "[574 rows x 3 columns]"
      ]
     },
     "execution_count": 117,
     "metadata": {},
     "output_type": "execute_result"
    }
   ],
   "source": [
    "df = pd.DataFrame(data=[postcode, borough, neighborhood]).transpose()\n",
    "df.columns = ['Postcode', 'Borough', 'Neighborhood']\n",
    "df"
   ]
  },
  {
   "cell_type": "markdown",
   "metadata": {},
   "source": [
    "Clean and transform the data per requirements"
   ]
  },
  {
   "cell_type": "code",
   "execution_count": 119,
   "metadata": {},
   "outputs": [],
   "source": [
    "df.drop(df[df['Borough'] == 'Not assigned'].index, inplace=True)\n",
    "df.loc[df.Neighborhood == 'Not assigned', \"Neighborhood\"] = df.Borough"
   ]
  },
  {
   "cell_type": "markdown",
   "metadata": {},
   "source": [
    "Cleaned dataframe"
   ]
  },
  {
   "cell_type": "code",
   "execution_count": 123,
   "metadata": {},
   "outputs": [
    {
     "data": {
      "text/html": [
       "<div>\n",
       "<style scoped>\n",
       "    .dataframe tbody tr th:only-of-type {\n",
       "        vertical-align: middle;\n",
       "    }\n",
       "\n",
       "    .dataframe tbody tr th {\n",
       "        vertical-align: top;\n",
       "    }\n",
       "\n",
       "    .dataframe thead th {\n",
       "        text-align: right;\n",
       "    }\n",
       "</style>\n",
       "<table border=\"1\" class=\"dataframe\">\n",
       "  <thead>\n",
       "    <tr style=\"text-align: right;\">\n",
       "      <th></th>\n",
       "      <th>Postcode</th>\n",
       "      <th>Borough</th>\n",
       "      <th>Neighborhood</th>\n",
       "    </tr>\n",
       "  </thead>\n",
       "  <tbody>\n",
       "    <tr>\n",
       "      <td>0</td>\n",
       "      <td>M1B</td>\n",
       "      <td>Scarborough</td>\n",
       "      <td>Rouge, Malvern</td>\n",
       "    </tr>\n",
       "    <tr>\n",
       "      <td>1</td>\n",
       "      <td>M1C</td>\n",
       "      <td>Scarborough</td>\n",
       "      <td>Highland Creek, Rouge Hill, Port Union</td>\n",
       "    </tr>\n",
       "    <tr>\n",
       "      <td>2</td>\n",
       "      <td>M1E</td>\n",
       "      <td>Scarborough</td>\n",
       "      <td>Guildwood, Morningside, West Hill</td>\n",
       "    </tr>\n",
       "    <tr>\n",
       "      <td>3</td>\n",
       "      <td>M1G</td>\n",
       "      <td>Scarborough</td>\n",
       "      <td>Woburn</td>\n",
       "    </tr>\n",
       "    <tr>\n",
       "      <td>4</td>\n",
       "      <td>M1H</td>\n",
       "      <td>Scarborough</td>\n",
       "      <td>Cedarbrae</td>\n",
       "    </tr>\n",
       "    <tr>\n",
       "      <td>...</td>\n",
       "      <td>...</td>\n",
       "      <td>...</td>\n",
       "      <td>...</td>\n",
       "    </tr>\n",
       "    <tr>\n",
       "      <td>98</td>\n",
       "      <td>M9N</td>\n",
       "      <td>York</td>\n",
       "      <td>Weston</td>\n",
       "    </tr>\n",
       "    <tr>\n",
       "      <td>99</td>\n",
       "      <td>M9P</td>\n",
       "      <td>Etobicoke</td>\n",
       "      <td>Westmount</td>\n",
       "    </tr>\n",
       "    <tr>\n",
       "      <td>100</td>\n",
       "      <td>M9R</td>\n",
       "      <td>Etobicoke</td>\n",
       "      <td>Kingsview Village, Martin Grove Gardens, Richv...</td>\n",
       "    </tr>\n",
       "    <tr>\n",
       "      <td>101</td>\n",
       "      <td>M9V</td>\n",
       "      <td>Etobicoke</td>\n",
       "      <td>Albion Gardens, Beaumond Heights, Humbergate, ...</td>\n",
       "    </tr>\n",
       "    <tr>\n",
       "      <td>102</td>\n",
       "      <td>M9W</td>\n",
       "      <td>Etobicoke</td>\n",
       "      <td>Northwest</td>\n",
       "    </tr>\n",
       "  </tbody>\n",
       "</table>\n",
       "<p>103 rows × 3 columns</p>\n",
       "</div>"
      ],
      "text/plain": [
       "    Postcode      Borough                                       Neighborhood\n",
       "0        M1B  Scarborough                                     Rouge, Malvern\n",
       "1        M1C  Scarborough             Highland Creek, Rouge Hill, Port Union\n",
       "2        M1E  Scarborough                  Guildwood, Morningside, West Hill\n",
       "3        M1G  Scarborough                                             Woburn\n",
       "4        M1H  Scarborough                                          Cedarbrae\n",
       "..       ...          ...                                                ...\n",
       "98       M9N         York                                             Weston\n",
       "99       M9P    Etobicoke                                          Westmount\n",
       "100      M9R    Etobicoke  Kingsview Village, Martin Grove Gardens, Richv...\n",
       "101      M9V    Etobicoke  Albion Gardens, Beaumond Heights, Humbergate, ...\n",
       "102      M9W    Etobicoke                                          Northwest\n",
       "\n",
       "[103 rows x 3 columns]"
      ]
     },
     "execution_count": 123,
     "metadata": {},
     "output_type": "execute_result"
    }
   ],
   "source": [
    "newdf = newdf.groupby(['Postcode', 'Borough'])['Neighborhood'].apply(', '.join).reset_index()\n",
    "newdf.columns = ['Postcode', 'Borough', 'Neighborhood']\n",
    "newdf"
   ]
  },
  {
   "cell_type": "markdown",
   "metadata": {},
   "source": [
    "Number of rows in dataframe"
   ]
  },
  {
   "cell_type": "code",
   "execution_count": 125,
   "metadata": {},
   "outputs": [
    {
     "data": {
      "text/plain": [
       "(103, 3)"
      ]
     },
     "execution_count": 125,
     "metadata": {},
     "output_type": "execute_result"
    }
   ],
   "source": [
    "newdf.shape"
   ]
  },
  {
   "cell_type": "markdown",
   "metadata": {},
   "source": [
    "__Section 2: Finding geographical coordinates and appending it to dataframe__"
   ]
  },
  {
   "cell_type": "code",
   "execution_count": 129,
   "metadata": {},
   "outputs": [
    {
     "name": "stdout",
     "output_type": "stream",
     "text": [
      "Done\n"
     ]
    },
    {
     "data": {
      "text/html": [
       "<div>\n",
       "<style scoped>\n",
       "    .dataframe tbody tr th:only-of-type {\n",
       "        vertical-align: middle;\n",
       "    }\n",
       "\n",
       "    .dataframe tbody tr th {\n",
       "        vertical-align: top;\n",
       "    }\n",
       "\n",
       "    .dataframe thead th {\n",
       "        text-align: right;\n",
       "    }\n",
       "</style>\n",
       "<table border=\"1\" class=\"dataframe\">\n",
       "  <thead>\n",
       "    <tr style=\"text-align: right;\">\n",
       "      <th></th>\n",
       "      <th>Postcode</th>\n",
       "      <th>Borough</th>\n",
       "      <th>Neighborhood</th>\n",
       "      <th>Latitude</th>\n",
       "      <th>Longitude</th>\n",
       "    </tr>\n",
       "  </thead>\n",
       "  <tbody>\n",
       "    <tr>\n",
       "      <td>0</td>\n",
       "      <td>M1B</td>\n",
       "      <td>Scarborough</td>\n",
       "      <td>Rouge, Malvern</td>\n",
       "      <td>43.806686</td>\n",
       "      <td>-79.194353</td>\n",
       "    </tr>\n",
       "    <tr>\n",
       "      <td>1</td>\n",
       "      <td>M1C</td>\n",
       "      <td>Scarborough</td>\n",
       "      <td>Highland Creek, Rouge Hill, Port Union</td>\n",
       "      <td>43.784535</td>\n",
       "      <td>-79.160497</td>\n",
       "    </tr>\n",
       "    <tr>\n",
       "      <td>2</td>\n",
       "      <td>M1E</td>\n",
       "      <td>Scarborough</td>\n",
       "      <td>Guildwood, Morningside, West Hill</td>\n",
       "      <td>43.763573</td>\n",
       "      <td>-79.188711</td>\n",
       "    </tr>\n",
       "    <tr>\n",
       "      <td>3</td>\n",
       "      <td>M1G</td>\n",
       "      <td>Scarborough</td>\n",
       "      <td>Woburn</td>\n",
       "      <td>43.770992</td>\n",
       "      <td>-79.216917</td>\n",
       "    </tr>\n",
       "    <tr>\n",
       "      <td>4</td>\n",
       "      <td>M1H</td>\n",
       "      <td>Scarborough</td>\n",
       "      <td>Cedarbrae</td>\n",
       "      <td>43.773136</td>\n",
       "      <td>-79.239476</td>\n",
       "    </tr>\n",
       "    <tr>\n",
       "      <td>...</td>\n",
       "      <td>...</td>\n",
       "      <td>...</td>\n",
       "      <td>...</td>\n",
       "      <td>...</td>\n",
       "      <td>...</td>\n",
       "    </tr>\n",
       "    <tr>\n",
       "      <td>98</td>\n",
       "      <td>M9N</td>\n",
       "      <td>York</td>\n",
       "      <td>Weston</td>\n",
       "      <td>43.706876</td>\n",
       "      <td>-79.518188</td>\n",
       "    </tr>\n",
       "    <tr>\n",
       "      <td>99</td>\n",
       "      <td>M9P</td>\n",
       "      <td>Etobicoke</td>\n",
       "      <td>Westmount</td>\n",
       "      <td>43.696319</td>\n",
       "      <td>-79.532242</td>\n",
       "    </tr>\n",
       "    <tr>\n",
       "      <td>100</td>\n",
       "      <td>M9R</td>\n",
       "      <td>Etobicoke</td>\n",
       "      <td>Kingsview Village, Martin Grove Gardens, Richv...</td>\n",
       "      <td>43.688905</td>\n",
       "      <td>-79.554724</td>\n",
       "    </tr>\n",
       "    <tr>\n",
       "      <td>101</td>\n",
       "      <td>M9V</td>\n",
       "      <td>Etobicoke</td>\n",
       "      <td>Albion Gardens, Beaumond Heights, Humbergate, ...</td>\n",
       "      <td>43.739416</td>\n",
       "      <td>-79.588437</td>\n",
       "    </tr>\n",
       "    <tr>\n",
       "      <td>102</td>\n",
       "      <td>M9W</td>\n",
       "      <td>Etobicoke</td>\n",
       "      <td>Northwest</td>\n",
       "      <td>43.706748</td>\n",
       "      <td>-79.594054</td>\n",
       "    </tr>\n",
       "  </tbody>\n",
       "</table>\n",
       "<p>103 rows × 5 columns</p>\n",
       "</div>"
      ],
      "text/plain": [
       "    Postcode      Borough                                       Neighborhood  \\\n",
       "0        M1B  Scarborough                                     Rouge, Malvern   \n",
       "1        M1C  Scarborough             Highland Creek, Rouge Hill, Port Union   \n",
       "2        M1E  Scarborough                  Guildwood, Morningside, West Hill   \n",
       "3        M1G  Scarborough                                             Woburn   \n",
       "4        M1H  Scarborough                                          Cedarbrae   \n",
       "..       ...          ...                                                ...   \n",
       "98       M9N         York                                             Weston   \n",
       "99       M9P    Etobicoke                                          Westmount   \n",
       "100      M9R    Etobicoke  Kingsview Village, Martin Grove Gardens, Richv...   \n",
       "101      M9V    Etobicoke  Albion Gardens, Beaumond Heights, Humbergate, ...   \n",
       "102      M9W    Etobicoke                                          Northwest   \n",
       "\n",
       "      Latitude  Longitude  \n",
       "0    43.806686 -79.194353  \n",
       "1    43.784535 -79.160497  \n",
       "2    43.763573 -79.188711  \n",
       "3    43.770992 -79.216917  \n",
       "4    43.773136 -79.239476  \n",
       "..         ...        ...  \n",
       "98   43.706876 -79.518188  \n",
       "99   43.696319 -79.532242  \n",
       "100  43.688905 -79.554724  \n",
       "101  43.739416 -79.588437  \n",
       "102  43.706748 -79.594054  \n",
       "\n",
       "[103 rows x 5 columns]"
      ]
     },
     "execution_count": 129,
     "metadata": {},
     "output_type": "execute_result"
    }
   ],
   "source": [
    "coordinatesfile = 'http://cocl.us/Geospatial_data'\n",
    "columns = [\"Postcode\",\"Latitude\",\"Longitude\"]\n",
    "\n",
    "coordinates_df = pd.read_csv(coordinatesfile,names=columns,skiprows=1)  #getting data from coordinates file\n",
    "print(\"Done\")\n",
    "\n",
    "new_coordinates_df = pd.merge(newdf, coordinates_df, on='Postcode', how='inner')  #join the dfs to also show coordinates info\n",
    "\n",
    "new_coordinates_df"
   ]
  },
  {
   "cell_type": "markdown",
   "metadata": {},
   "source": [
    "__Section 3: Explore and cluster the Toronto neighborhoods__"
   ]
  },
  {
   "cell_type": "code",
   "execution_count": 139,
   "metadata": {},
   "outputs": [
    {
     "name": "stdout",
     "output_type": "stream",
     "text": [
      "Requirement already satisfied: geocoder==1.5.0 in /Users/iseetan/.pyenv/versions/3.7.4/lib/python3.7/site-packages (1.5.0)\n",
      "Requirement already satisfied: click in /Users/iseetan/.pyenv/versions/3.7.4/lib/python3.7/site-packages (from geocoder==1.5.0) (7.0)\n",
      "Requirement already satisfied: requests in /Users/iseetan/.pyenv/versions/3.7.4/lib/python3.7/site-packages (from geocoder==1.5.0) (2.22.0)\n",
      "Requirement already satisfied: ratelim in /Users/iseetan/.pyenv/versions/3.7.4/lib/python3.7/site-packages (from geocoder==1.5.0) (0.1.6)\n",
      "Requirement already satisfied: six in /Users/iseetan/.pyenv/versions/3.7.4/lib/python3.7/site-packages (from geocoder==1.5.0) (1.12.0)\n",
      "Requirement already satisfied: chardet<3.1.0,>=3.0.2 in /Users/iseetan/.pyenv/versions/3.7.4/lib/python3.7/site-packages (from requests->geocoder==1.5.0) (3.0.4)\n",
      "Requirement already satisfied: idna<2.9,>=2.5 in /Users/iseetan/.pyenv/versions/3.7.4/lib/python3.7/site-packages (from requests->geocoder==1.5.0) (2.8)\n",
      "Requirement already satisfied: urllib3!=1.25.0,!=1.25.1,<1.26,>=1.21.1 in /Users/iseetan/.pyenv/versions/3.7.4/lib/python3.7/site-packages (from requests->geocoder==1.5.0) (1.25.5)\n",
      "Requirement already satisfied: certifi>=2017.4.17 in /Users/iseetan/.pyenv/versions/3.7.4/lib/python3.7/site-packages (from requests->geocoder==1.5.0) (2019.9.11)\n",
      "Requirement already satisfied: decorator in /Users/iseetan/.pyenv/versions/3.7.4/lib/python3.7/site-packages (from ratelim->geocoder==1.5.0) (4.4.0)\n",
      "\u001b[33mWARNING: You are using pip version 19.2.3, however version 19.3.1 is available.\n",
      "You should consider upgrading via the 'pip install --upgrade pip' command.\u001b[0m\n",
      "Requirement already satisfied: geopy in /Users/iseetan/.pyenv/versions/3.7.4/lib/python3.7/site-packages (1.20.0)\n",
      "Requirement already satisfied: geographiclib<2,>=1.49 in /Users/iseetan/.pyenv/versions/3.7.4/lib/python3.7/site-packages (from geopy) (1.50)\n",
      "\u001b[33mWARNING: You are using pip version 19.2.3, however version 19.3.1 is available.\n",
      "You should consider upgrading via the 'pip install --upgrade pip' command.\u001b[0m\n",
      "Requirement already satisfied: sklearn in /Users/iseetan/.pyenv/versions/3.7.4/lib/python3.7/site-packages (0.0)\n",
      "Requirement already satisfied: scikit-learn in /Users/iseetan/.pyenv/versions/3.7.4/lib/python3.7/site-packages (from sklearn) (0.22.1)\n",
      "Requirement already satisfied: scipy>=0.17.0 in /Users/iseetan/.pyenv/versions/3.7.4/lib/python3.7/site-packages (from scikit-learn->sklearn) (1.3.1)\n",
      "Requirement already satisfied: numpy>=1.11.0 in /Users/iseetan/.pyenv/versions/3.7.4/lib/python3.7/site-packages (from scikit-learn->sklearn) (1.17.2)\n",
      "Requirement already satisfied: joblib>=0.11 in /Users/iseetan/.pyenv/versions/3.7.4/lib/python3.7/site-packages (from scikit-learn->sklearn) (0.14.1)\n",
      "\u001b[33mWARNING: You are using pip version 19.2.3, however version 19.3.1 is available.\n",
      "You should consider upgrading via the 'pip install --upgrade pip' command.\u001b[0m\n",
      "Requirement already satisfied: folium in /Users/iseetan/.pyenv/versions/3.7.4/lib/python3.7/site-packages (0.10.1)\n",
      "Requirement already satisfied: branca>=0.3.0 in /Users/iseetan/.pyenv/versions/3.7.4/lib/python3.7/site-packages (from folium) (0.3.1)\n",
      "Requirement already satisfied: requests in /Users/iseetan/.pyenv/versions/3.7.4/lib/python3.7/site-packages (from folium) (2.22.0)\n",
      "Requirement already satisfied: jinja2>=2.9 in /Users/iseetan/.pyenv/versions/3.7.4/lib/python3.7/site-packages (from folium) (2.10.1)\n",
      "Requirement already satisfied: numpy in /Users/iseetan/.pyenv/versions/3.7.4/lib/python3.7/site-packages (from folium) (1.17.2)\n",
      "Requirement already satisfied: six in /Users/iseetan/.pyenv/versions/3.7.4/lib/python3.7/site-packages (from branca>=0.3.0->folium) (1.12.0)\n",
      "Requirement already satisfied: certifi>=2017.4.17 in /Users/iseetan/.pyenv/versions/3.7.4/lib/python3.7/site-packages (from requests->folium) (2019.9.11)\n",
      "Requirement already satisfied: urllib3!=1.25.0,!=1.25.1,<1.26,>=1.21.1 in /Users/iseetan/.pyenv/versions/3.7.4/lib/python3.7/site-packages (from requests->folium) (1.25.5)\n",
      "Requirement already satisfied: idna<2.9,>=2.5 in /Users/iseetan/.pyenv/versions/3.7.4/lib/python3.7/site-packages (from requests->folium) (2.8)\n",
      "Requirement already satisfied: chardet<3.1.0,>=3.0.2 in /Users/iseetan/.pyenv/versions/3.7.4/lib/python3.7/site-packages (from requests->folium) (3.0.4)\n",
      "Requirement already satisfied: MarkupSafe>=0.23 in /Users/iseetan/.pyenv/versions/3.7.4/lib/python3.7/site-packages (from jinja2>=2.9->folium) (1.1.1)\n",
      "\u001b[33mWARNING: You are using pip version 19.2.3, however version 19.3.1 is available.\n",
      "You should consider upgrading via the 'pip install --upgrade pip' command.\u001b[0m\n",
      "Libraries imported.\n"
     ]
    }
   ],
   "source": [
    "#start by importing all necessary libraries \n",
    "\n",
    "import numpy as np\n",
    "pd.set_option('display.max_columns', None)\n",
    "pd.set_option('display.max_rows', None)\n",
    "\n",
    "import json \n",
    "\n",
    "!pip install geocoder==1.5.0\n",
    "!pip install geopy\n",
    "#!conda install -c conda-forge geopy --yes #uncomment this line if you haven't completed the Foursquare API lab\n",
    "from geopy.geocoders import Nominatim #convert an address into latitude and longitude values\n",
    "\n",
    "import requests # library to handle requests\n",
    "from pandas.io.json import json_normalize # tranform JSON file into a pandas dataframe\n",
    "\n",
    "# Matplotlib and associated plotting modules\n",
    "import matplotlib.cm as cm\n",
    "import matplotlib.colors as colors\n",
    "!pip install sklearn\n",
    "\n",
    "# import k-means from clustering stage\n",
    "from sklearn.cluster import KMeans\n",
    "\n",
    "#!conda install -c conda-forge folium=0.5.0 --yes # uncomment this line if you haven't completed the Foursquare API lab\n",
    "!pip install folium\n",
    "import folium # map rendering library\n",
    "\n",
    "print('Libraries imported.')"
   ]
  },
  {
   "cell_type": "markdown",
   "metadata": {},
   "source": [
    "Find greographical coordinates of the city of Toronto"
   ]
  },
  {
   "cell_type": "code",
   "execution_count": 146,
   "metadata": {},
   "outputs": [
    {
     "name": "stderr",
     "output_type": "stream",
     "text": [
      "/Users/iseetan/.pyenv/versions/3.7.4/lib/python3.7/site-packages/ipykernel_launcher.py:6: DeprecationWarning: Using Nominatim with the default \"geopy/1.20.0\" `user_agent` is strongly discouraged, as it violates Nominatim's ToS https://operations.osmfoundation.org/policies/nominatim/ and may possibly cause 403 and 429 HTTP errors. Please specify a custom `user_agent` with `Nominatim(user_agent=\"my-application\")` or by overriding the default `user_agent`: `geopy.geocoders.options.default_user_agent = \"my-application\"`. In geopy 2.0 this will become an exception.\n",
      "  \n"
     ]
    },
    {
     "name": "stdout",
     "output_type": "stream",
     "text": [
      "The geograpical coordinate of Toronto City are 43.653963, -79.387207.\n"
     ]
    }
   ],
   "source": [
    "df_toronto = new_coordinates_df[new_coordinates_df['Borough'].str.contains(\"Toronto\")]\n",
    "df_toronto\n",
    "\n",
    "address = 'Toronto, Ontario' \n",
    "\n",
    "geolocator = Nominatim()\n",
    "location = geolocator.geocode(address)\n",
    "latitude = location.latitude\n",
    "longitude = location.longitude\n",
    "print('The geograpical coordinate of Toronto City are {}, {}.'.format(latitude, longitude))"
   ]
  },
  {
   "cell_type": "markdown",
   "metadata": {},
   "source": [
    "Create a map of Toronto with neighborhoods superimposed on top"
   ]
  },
  {
   "cell_type": "code",
   "execution_count": 148,
   "metadata": {},
   "outputs": [
    {
     "data": {
      "text/html": [
       "<div style=\"width:100%;\"><div style=\"position:relative;width:100%;height:0;padding-bottom:60%;\"><iframe src=\"data:text/html;charset=utf-8;base64,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\" style=\"position:absolute;width:100%;height:100%;left:0;top:0;border:none !important;\" allowfullscreen webkitallowfullscreen mozallowfullscreen></iframe></div></div>"
      ],
      "text/plain": [
       "<folium.folium.Map at 0x121480610>"
      ]
     },
     "execution_count": 148,
     "metadata": {},
     "output_type": "execute_result"
    }
   ],
   "source": [
    "toronto_map = folium.Map(location=[latitude, longitude], zoom_start=10)\n",
    "\n",
    "# add markers\n",
    "for lat, lng, borough, neighborhood in zip(df_toronto['Latitude'], df_toronto['Longitude'], df_toronto['Borough'], df_toronto['Neighborhood']):\n",
    "    label = '{}, {}'.format(neighborhood, borough)\n",
    "    label = folium.Popup(label, parse_html=True)\n",
    "    folium.CircleMarker(\n",
    "        [lat, lng],\n",
    "        radius=5,\n",
    "        popup=label,\n",
    "        color='blue',\n",
    "        fill=True,\n",
    "        fill_color='#3186cc',\n",
    "        fill_opacity=0.7,\n",
    "        parse_html=False).add_to(toronto_map)  \n",
    "    \n",
    "toronto_map"
   ]
  },
  {
   "cell_type": "markdown",
   "metadata": {},
   "source": [
    "Picking central Toronto (ct) for deep dive"
   ]
  },
  {
   "cell_type": "code",
   "execution_count": 149,
   "metadata": {},
   "outputs": [
    {
     "name": "stderr",
     "output_type": "stream",
     "text": [
      "/Users/iseetan/.pyenv/versions/3.7.4/lib/python3.7/site-packages/ipykernel_launcher.py:7: DeprecationWarning: Using Nominatim with the default \"geopy/1.20.0\" `user_agent` is strongly discouraged, as it violates Nominatim's ToS https://operations.osmfoundation.org/policies/nominatim/ and may possibly cause 403 and 429 HTTP errors. Please specify a custom `user_agent` with `Nominatim(user_agent=\"my-application\")` or by overriding the default `user_agent`: `geopy.geocoders.options.default_user_agent = \"my-application\"`. In geopy 2.0 this will become an exception.\n",
      "  import sys\n"
     ]
    },
    {
     "name": "stdout",
     "output_type": "stream",
     "text": [
      "The geograpical coordinate of Central Toronto are 43.6449033, -79.3818364.\n"
     ]
    }
   ],
   "source": [
    "neighborhoods=df_toronto\n",
    "ct_data = neighborhoods[neighborhoods['Borough'] == 'Central Toronto'].reset_index(drop=True)\n",
    "ct_data.head()\n",
    "\n",
    "address = 'Central Toronto, Ontario'\n",
    "\n",
    "geolocator = Nominatim()\n",
    "location = geolocator.geocode(address)\n",
    "latitude = location.latitude\n",
    "longitude = location.longitude\n",
    "print('The geograpical coordinate of Central Toronto are {}, {}.'.format(latitude, longitude))"
   ]
  },
  {
   "cell_type": "markdown",
   "metadata": {},
   "source": [
    "Create map of Central Toronto with neighborhoods superimposed on top"
   ]
  },
  {
   "cell_type": "code",
   "execution_count": 151,
   "metadata": {},
   "outputs": [
    {
     "data": {
      "text/html": [
       "<div style=\"width:100%;\"><div style=\"position:relative;width:100%;height:0;padding-bottom:60%;\"><iframe src=\"data:text/html;charset=utf-8;base64,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\" style=\"position:absolute;width:100%;height:100%;left:0;top:0;border:none !important;\" allowfullscreen webkitallowfullscreen mozallowfullscreen></iframe></div></div>"
      ],
      "text/plain": [
       "<folium.folium.Map at 0x121b4aad0>"
      ]
     },
     "execution_count": 151,
     "metadata": {},
     "output_type": "execute_result"
    }
   ],
   "source": [
    "ct_map = folium.Map(location=[latitude, longitude], zoom_start=10)\n",
    "\n",
    "# add markers to map\n",
    "for lat, lng, borough, neighborhood in zip(ct_data['Latitude'], ct_data['Longitude'], ct_data['Borough'], ct_data['Neighborhood']):\n",
    "    label = '{}, {}'.format(neighborhood, borough)\n",
    "    label = folium.Popup(label, parse_html=True)\n",
    "    folium.CircleMarker(\n",
    "        [lat, lng],\n",
    "        radius=5,\n",
    "        popup=label,\n",
    "        color='blue',\n",
    "        fill=True,\n",
    "        fill_color='#3186cc',\n",
    "        fill_opacity=0.7,\n",
    "        parse_html=False).add_to(ct_map)  \n",
    "    \n",
    "ct_map"
   ]
  },
  {
   "cell_type": "markdown",
   "metadata": {},
   "source": [
    "Finding nearby venues in Central Toronto"
   ]
  },
  {
   "cell_type": "code",
   "execution_count": 154,
   "metadata": {},
   "outputs": [
    {
     "name": "stdout",
     "output_type": "stream",
     "text": [
      "Your credentails:\n",
      "CLIENT_ID: VXKTGFX1QDNVIVEVIO1G3ZRYCWIHP24EHIDQPAKN3G1DRQQZ\n",
      "CLIENT_SECRET:HNMENEA4I0CJM3OSCQOKRGF1UBTDZ3MBQ1J12FH2UU4ZSAKC\n",
      "Latitude and longitude values of Lawrence Park are 43.7280205, -79.3887901.\n"
     ]
    },
    {
     "data": {
      "text/html": [
       "<div>\n",
       "<style scoped>\n",
       "    .dataframe tbody tr th:only-of-type {\n",
       "        vertical-align: middle;\n",
       "    }\n",
       "\n",
       "    .dataframe tbody tr th {\n",
       "        vertical-align: top;\n",
       "    }\n",
       "\n",
       "    .dataframe thead th {\n",
       "        text-align: right;\n",
       "    }\n",
       "</style>\n",
       "<table border=\"1\" class=\"dataframe\">\n",
       "  <thead>\n",
       "    <tr style=\"text-align: right;\">\n",
       "      <th></th>\n",
       "      <th>name</th>\n",
       "      <th>categories</th>\n",
       "      <th>lat</th>\n",
       "      <th>lng</th>\n",
       "    </tr>\n",
       "  </thead>\n",
       "  <tbody>\n",
       "    <tr>\n",
       "      <td>0</td>\n",
       "      <td>Lawrence Park Ravine</td>\n",
       "      <td>Park</td>\n",
       "      <td>43.726963</td>\n",
       "      <td>-79.394382</td>\n",
       "    </tr>\n",
       "    <tr>\n",
       "      <td>1</td>\n",
       "      <td>Dim Sum Deluxe</td>\n",
       "      <td>Dim Sum Restaurant</td>\n",
       "      <td>43.726953</td>\n",
       "      <td>-79.394260</td>\n",
       "    </tr>\n",
       "    <tr>\n",
       "      <td>2</td>\n",
       "      <td>Zodiac Swim School</td>\n",
       "      <td>Swim School</td>\n",
       "      <td>43.728532</td>\n",
       "      <td>-79.382860</td>\n",
       "    </tr>\n",
       "    <tr>\n",
       "      <td>3</td>\n",
       "      <td>TTC Bus #162 - Lawrence-Donway</td>\n",
       "      <td>Bus Line</td>\n",
       "      <td>43.728026</td>\n",
       "      <td>-79.382805</td>\n",
       "    </tr>\n",
       "  </tbody>\n",
       "</table>\n",
       "</div>"
      ],
      "text/plain": [
       "                             name          categories        lat        lng\n",
       "0            Lawrence Park Ravine                Park  43.726963 -79.394382\n",
       "1                  Dim Sum Deluxe  Dim Sum Restaurant  43.726953 -79.394260\n",
       "2              Zodiac Swim School         Swim School  43.728532 -79.382860\n",
       "3  TTC Bus #162 - Lawrence-Donway            Bus Line  43.728026 -79.382805"
      ]
     },
     "execution_count": 154,
     "metadata": {},
     "output_type": "execute_result"
    }
   ],
   "source": [
    "CLIENT_ID = 'VXKTGFX1QDNVIVEVIO1G3ZRYCWIHP24EHIDQPAKN3G1DRQQZ' # your Foursquare ID\n",
    "CLIENT_SECRET = 'HNMENEA4I0CJM3OSCQOKRGF1UBTDZ3MBQ1J12FH2UU4ZSAKC' # your Foursquare Secret\n",
    "VERSION = '20190107' # Foursquare API version\n",
    "\n",
    "print('Your credentails:')\n",
    "print('CLIENT_ID: ' + CLIENT_ID)\n",
    "print('CLIENT_SECRET:' + CLIENT_SECRET)\n",
    "\n",
    "ct_data.loc[0, 'Neighborhood']\n",
    "\n",
    "neighborhood_latitude = ct_data.loc[0, 'Latitude'] # neighborhood latitude value\n",
    "neighborhood_longitude = ct_data.loc[0, 'Longitude'] # neighborhood longitude value\n",
    "\n",
    "neighborhood_name = ct_data.loc[0, 'Neighborhood'] # neighborhood name\n",
    "\n",
    "print('Latitude and longitude values of {} are {}, {}.'.format(neighborhood_name, \n",
    "                                                               neighborhood_latitude, \n",
    "                                                               neighborhood_longitude))\n",
    "\n",
    "LIMIT = 100 # limit of number of venues returned by Foursquare API\n",
    "\n",
    "radius = 500 # define radius\n",
    "\n",
    "# create URL\n",
    "url = 'https://api.foursquare.com/v2/venues/explore?&client_id={}&client_secret={}&v={}&ll={},{}&radius={}&limit={}'.format(\n",
    "    CLIENT_ID, \n",
    "    CLIENT_SECRET, \n",
    "    VERSION, \n",
    "    neighborhood_latitude, \n",
    "    neighborhood_longitude, \n",
    "    radius, \n",
    "    LIMIT)\n",
    "url # display URL\n",
    "\n",
    "results = requests.get(url).json()\n",
    "results\n",
    "\n",
    "# function that extracts the category of the venue\n",
    "def get_category_type(row):\n",
    "    try:\n",
    "        categories_list = row['categories']\n",
    "    except:\n",
    "        categories_list = row['venue.categories']\n",
    "        \n",
    "    if len(categories_list) == 0:\n",
    "        return None\n",
    "    else:\n",
    "        return categories_list[0]['name']\n",
    "    \n",
    "venues = results['response']['groups'][0]['items']\n",
    "    \n",
    "nearby_venues = json_normalize(venues) # flatten JSON\n",
    "\n",
    "# filter columns\n",
    "filtered_columns = ['venue.name', 'venue.categories', 'venue.location.lat', 'venue.location.lng']\n",
    "nearby_venues =nearby_venues.loc[:, filtered_columns]\n",
    "\n",
    "# filter the category for each row\n",
    "nearby_venues['venue.categories'] = nearby_venues.apply(get_category_type, axis=1)\n",
    "\n",
    "# clean columns\n",
    "nearby_venues.columns = [col.split(\".\")[-1] for col in nearby_venues.columns]\n",
    "\n",
    "nearby_venues"
   ]
  },
  {
   "cell_type": "code",
   "execution_count": null,
   "metadata": {},
   "outputs": [],
   "source": []
  }
 ],
 "metadata": {
  "kernelspec": {
   "display_name": "Python 3",
   "language": "python",
   "name": "python3"
  },
  "language_info": {
   "codemirror_mode": {
    "name": "ipython",
    "version": 3
   },
   "file_extension": ".py",
   "mimetype": "text/x-python",
   "name": "python",
   "nbconvert_exporter": "python",
   "pygments_lexer": "ipython3",
   "version": "3.7.4"
  }
 },
 "nbformat": 4,
 "nbformat_minor": 4
}
